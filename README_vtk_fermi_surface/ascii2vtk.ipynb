{
 "cells": [
  {
   "cell_type": "code",
   "execution_count": 3,
   "metadata": {},
   "outputs": [],
   "source": [
    "# import required modules\n",
    "import vtk\n",
    "import numpy as np"
   ]
  },
  {
   "cell_type": "code",
   "execution_count": 4,
   "metadata": {
    "collapsed": true
   },
   "outputs": [],
   "source": [
    "# read ASCII data\n",
    "energy = 4.5\n",
    "d = np.loadtxt(\"VHD/3D_Fermi_energy_contour_4.5_VHD.txt\", usecols = (0,1,2))\n"
   ]
  },
  {
   "cell_type": "code",
   "execution_count": 5,
   "metadata": {
    "collapsed": true
   },
   "outputs": [],
   "source": [
    "# create vtkPoints dataset to store point cloud\n",
    "pts = vtk.vtkPoints()\n",
    "npts = d.shape[0]\n",
    "vrt = vtk.vtkCellArray()\n",
    "for i in xrange(0, npts):\n",
    "    id = pts.InsertNextPoint(d[i])\n",
    "    vrt.InsertNextCell(1)\n",
    "    vrt.InsertCellPoint(id)\n",
    "\n",
    "pd = vtk.vtkPolyData()\n",
    "pd.SetPoints(pts)\n",
    "pd.SetVerts(vrt)"
   ]
  },
  {
   "cell_type": "code",
   "execution_count": 6,
   "metadata": {
    "collapsed": true
   },
   "outputs": [],
   "source": [
    "# add variable 'dummy' as vtkFiledData (in this case, it is constant along the surface)\n",
    "field = vtk.vtkFieldData()\n",
    "field.AllocateArrays(1)\n",
    "arr = vtk.vtkFloatArray()\n",
    "arr.SetNumberOfComponents(1)\n",
    "arr.SetName('dummy')\n",
    "k = 0\n",
    "for i in xrange(0, npts):\n",
    "    arr.InsertTuple1(k, energy)\n",
    "    k = k+1\n",
    "field.AddArray(arr)\n",
    "pd.SetFieldData(field)"
   ]
  },
  {
   "cell_type": "code",
   "execution_count": null,
   "metadata": {
    "collapsed": true
   },
   "outputs": [],
   "source": [
    "# write data to disk as VTK Polydata \n",
    "ofile = 'data_vhd_%d.vtp' % (energy*10)\n",
    "wrt = vtk.vtkXMLPolyDataWriter() \n",
    "wrt.SetFileName(ofile)\n",
    "wrt.SetDataModeToAscii()\n",
    "wrt.SetInputData(pd)\n",
    "wrt.Write()"
   ]
  }
 ],
 "metadata": {
  "kernelspec": {
   "display_name": "Python 2",
   "language": "python",
   "name": "python2"
  },
  "language_info": {
   "codemirror_mode": {
    "name": "ipython",
    "version": 2
   },
   "file_extension": ".py",
   "mimetype": "text/x-python",
   "name": "python",
   "nbconvert_exporter": "python",
   "pygments_lexer": "ipython2",
   "version": "2.7.14"
  }
 },
 "nbformat": 4,
 "nbformat_minor": 2
}
